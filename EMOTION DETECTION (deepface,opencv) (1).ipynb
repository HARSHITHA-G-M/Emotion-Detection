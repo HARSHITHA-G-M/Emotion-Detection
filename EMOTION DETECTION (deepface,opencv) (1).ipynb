{
 "cells": [
  {
   "cell_type": "code",
   "execution_count": 2,
   "id": "31b7dcb5",
   "metadata": {},
   "outputs": [],
   "source": [
    "import cv2\n",
    "from deepface import DeepFace\n",
    "\n",
    "# Define the emotion responses\n",
    "emotion_responses = {\n",
    "    \"happy\": \"That's great to see! Keep smiling! 😊\",\n",
    "    \"sad\": \"I'm here for you. Remember, it's okay to feel sad. 🌧️\",\n",
    "    \"angry\": \"Take a deep breath. Let's find some calm together. 🧘‍♂️\",\n",
    "    \"surprised\": \"Wow! That must be something new! 😲\",\n",
    "    \"disgust\": \"It's okay to feel that way. Let's focus on something positive! 😊\",\n",
    "    \"fear\": \"You are safe. Let's talk about what's bothering you. 🕊️\",\n",
    "    \"neutral\": \"Everything seems calm. How can I help you today? 🤗\"\n",
    "}\n",
    "\n",
    "# Load the face cascade classifier\n",
    "face_cascade = cv2.CascadeClassifier(cv2.data.haarcascades + 'haarcascade_frontalface_default.xml')\n",
    "cap = cv2.VideoCapture(0)\n",
    "\n",
    "while True:\n",
    "    ret, frame = cap.read()\n",
    "    if not ret:\n",
    "        print(\"Failed to grab frame\")\n",
    "        break\n",
    "\n",
    "    gray_frame = cv2.cvtColor(frame, cv2.COLOR_BGR2GRAY)\n",
    "    rgb_frame = cv2.cvtColor(gray_frame, cv2.COLOR_GRAY2RGB)\n",
    "    \n",
    "    # Detect faces in the frame\n",
    "    faces = face_cascade.detectMultiScale(gray_frame, scaleFactor=1.1, minNeighbors=5, minSize=(30, 30))\n",
    "    \n",
    "    for (x, y, w, h) in faces:\n",
    "        face_roi = rgb_frame[y:y + h, x:x + w]\n",
    "        \n",
    "        # Analyze the detected face for emotions\n",
    "        result = DeepFace.analyze(face_roi, actions=['emotion'], enforce_detection=False)\n",
    "        emotion = result[0]['dominant_emotion']\n",
    "        \n",
    "        # Get the corresponding response\n",
    "        response = emotion_responses.get(emotion, \"I don't know how to respond to that.\")\n",
    "        \n",
    "        # Draw rectangle around the face and display emotion and response\n",
    "        cv2.rectangle(frame, (x, y), (x + w, y + h), (0, 0, 255), 2)\n",
    "        cv2.putText(frame, emotion, (x, y - 10), cv2.FONT_HERSHEY_SIMPLEX, 0.9, (0, 0, 255), 2)\n",
    "        cv2.putText(frame, response, (x, y + h + 10), cv2.FONT_HERSHEY_SIMPLEX, 0.7, (255, 255, 255), 2)\n",
    "\n",
    "    # Display the frame with emotion and response\n",
    "    cv2.imshow('Real-time Emotion Detection', frame)\n",
    "    \n",
    "    if cv2.waitKey(1) & 0xFF == ord('q'):\n",
    "        break\n",
    "\n",
    "# Release the video capture and close windows\n",
    "cap.release()\n",
    "cv2.destroyAllWindows()\n",
    "\n"
   ]
  },
  {
   "cell_type": "code",
   "execution_count": null,
   "id": "33c91c33",
   "metadata": {},
   "outputs": [],
   "source": []
  }
 ],
 "metadata": {
  "kernelspec": {
   "display_name": "Python 3 (ipykernel)",
   "language": "python",
   "name": "python3"
  },
  "language_info": {
   "codemirror_mode": {
    "name": "ipython",
    "version": 3
   },
   "file_extension": ".py",
   "mimetype": "text/x-python",
   "name": "python",
   "nbconvert_exporter": "python",
   "pygments_lexer": "ipython3",
   "version": "3.10.9"
  }
 },
 "nbformat": 4,
 "nbformat_minor": 5
}
